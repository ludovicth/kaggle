{
 "cells": [
  {
   "cell_type": "code",
   "execution_count": 1,
   "metadata": {
    "collapsed": true
   },
   "outputs": [],
   "source": [
    "import time\n",
    "import scipy.io as sio\n",
    "import numpy as np\n",
    "import pandas as pd\n",
    "import random\n",
    "import matplotlib.pyplot as plt\n",
    "from sklearn.cross_validation import KFold\n",
    "from sklearn.utils import shuffle\n",
    "import time\n",
    "from sklearn.preprocessing import scale\n",
    "\n",
    "%matplotlib inline"
   ]
  },
  {
   "cell_type": "code",
   "execution_count": 2,
   "metadata": {
    "collapsed": false
   },
   "outputs": [
    {
     "data": {
      "text/plain": [
       "[('test_images', (10000, 28, 28), 'uint8')]"
      ]
     },
     "execution_count": 2,
     "metadata": {},
     "output_type": "execute_result"
    }
   ],
   "source": [
    "file_test ='C:\\Users\\Ludovic\\Documents\\CS289\\hw6\\hw6\\dataset\\\\test.mat'\n",
    "test = sio.loadmat(file_test)\n",
    "sio.whosmat(file_test)"
   ]
  },
  {
   "cell_type": "code",
   "execution_count": 3,
   "metadata": {
    "collapsed": false
   },
   "outputs": [
    {
     "data": {
      "text/plain": [
       "[('train_images', (28, 28, 60000), 'double'),\n",
       " ('train_labels', (60000, 1), 'double')]"
      ]
     },
     "execution_count": 3,
     "metadata": {},
     "output_type": "execute_result"
    }
   ],
   "source": [
    "file_train ='C:\\Users\\Ludovic\\Documents\\CS289\\hw6\\hw6\\dataset\\\\train.mat'\n",
    "train = sio.loadmat(file_train)\n",
    "sio.whosmat(file_train)"
   ]
  },
  {
   "cell_type": "code",
   "execution_count": 27,
   "metadata": {
    "collapsed": false
   },
   "outputs": [
    {
     "data": {
      "image/png": "[encoded data removed]",
      "text/plain": [
       "<matplotlib.figure.Figure at 0x1a05b828>"
      ]
     },
     "metadata": {},
     "output_type": "display_data"
    }
   ],
   "source": [
    "X_test = test['test_images'].copy()\n",
    "X = train['train_images'].copy()\n",
    "y = train['train_labels'].copy()\n",
    "\n",
    "plt.imshow(X_test[100,:,:])\n",
    "plt.show()\n",
    "\n",
    "X = X.swapaxes(0,2)\n",
    "X = X.swapaxes(1,2)\n",
    "X = X.reshape(60000,-1)\n",
    "X_test = X_test.reshape(10000, -1)"
   ]
  },
  {
   "cell_type": "code",
   "execution_count": 28,
   "metadata": {
    "collapsed": false
   },
   "outputs": [
    {
     "name": "stderr",
     "output_type": "stream",
     "text": [
      "C:\\Anaconda2\\lib\\site-packages\\sklearn\\utils\\validation.py:420: DataConversionWarning: Data with input dtype uint8 was converted to float64 by the scale function.\n",
      "  warnings.warn(msg, DataConversionWarning)\n",
      "C:\\Anaconda2\\lib\\site-packages\\sklearn\\utils\\validation.py:420: DataConversionWarning: Data with input dtype uint8 was converted to float64 by the scale function.\n",
      "  warnings.warn(msg, DataConversionWarning)\n"
     ]
    }
   ],
   "source": [
    "X = scale(X, axis=1)\n",
    "X_test = scale(X_test, axis=1)\n",
    "X,y = shuffle(X,y, random_state = 0)"
   ]
  },
  {
   "cell_type": "code",
   "execution_count": 29,
   "metadata": {
    "collapsed": false
   },
   "outputs": [],
   "source": [
    "# split into training/validation set. add column of 1 for intercept\n",
    "X_train = X[:5*len(y)/6]\n",
    "y_train = y[:5*len(y)/6]\n",
    "X_val = X[5*len(y)/6:]\n",
    "y_val = y[5*len(y)/6:]\n",
    "X_train = np.hstack((X_train,np.ones(len(X_train)).reshape(-1,1)))\n",
    "X_val = np.hstack((X_val,np.ones(len(X_val)).reshape(-1,1)))\n",
    "X_test = np.hstack((X_test,np.ones(len(X_test)).reshape(-1,1)))"
   ]
  },
  {
   "cell_type": "code",
   "execution_count": 30,
   "metadata": {
    "collapsed": false
   },
   "outputs": [
    {
     "name": "stdout",
     "output_type": "stream",
     "text": [
      "(50000L, 785L)\n",
      "(10000L, 785L)\n",
      "(10000L, 785L)\n",
      "(50000L, 1L)\n",
      "(60000L, 784L)\n"
     ]
    }
   ],
   "source": [
    "print X_train.shape\n",
    "print X_val.shape\n",
    "print X_test.shape\n",
    "print y_train.shape\n",
    "print X.shape"
   ]
  },
  {
   "cell_type": "code",
   "execution_count": 31,
   "metadata": {
    "collapsed": false
   },
   "outputs": [
    {
     "data": {
      "text/plain": [
       "array([0, 1, 2, 3, 4, 5, 6, 7, 8, 9], dtype=uint8)"
      ]
     },
     "execution_count": 31,
     "metadata": {},
     "output_type": "execute_result"
    }
   ],
   "source": [
    "np.unique(y_train)"
   ]
  },
  {
   "cell_type": "code",
   "execution_count": 32,
   "metadata": {
    "collapsed": true
   },
   "outputs": [],
   "source": [
    "y = np.array([[1,2,3],[1,2,3]])\n",
    "z = np.array([1,1,3])"
   ]
  },
  {
   "cell_type": "code",
   "execution_count": 10,
   "metadata": {
    "collapsed": false
   },
   "outputs": [
    {
     "data": {
      "text/plain": [
       "array([[1],\n",
       "       [1],\n",
       "       [3]])"
      ]
     },
     "execution_count": 10,
     "metadata": {},
     "output_type": "execute_result"
    }
   ],
   "source": [
    "z.reshape(-1,1)"
   ]
  },
  {
   "cell_type": "code",
   "execution_count": null,
   "metadata": {
    "collapsed": false
   },
   "outputs": [],
   "source": []
  },
  {
   "cell_type": "code",
   "execution_count": 11,
   "metadata": {
    "collapsed": true
   },
   "outputs": [],
   "source": [
    "def compute_numerical_gradient(N,X,y):\n",
    "    param_initial = N.get_params()\n",
    "    numgrad = np.zeros(param_initial.shape)\n",
    "    perturb = np.zeros(param_initial.shape)\n",
    "    print numgrad.shape\n",
    "    e = 1e-4\n",
    "\n",
    "    print \"param_initial \", param_initial, len(param_initial)   \n",
    "    \n",
    "    for p in xrange(len(perturb)-2, len(perturb)):\n",
    "        # set perturbation vector\n",
    "        print p\n",
    "        perturb[p] = e\n",
    "        N.set_params(param_initial + perturb)\n",
    "       \n",
    "        a2= N.forward(X)\n",
    "        b2 = N.one_hot(y)\n",
    "        #print type(a), a.shape\n",
    "        #print \"MSE\", MSE(a2[0], b2.iloc[0]) , \"shape a2[0]\", a2[0].shape, \"shape b2.iloc[0]\", b2.iloc[0].shape\n",
    "        \n",
    "        loss2 = np.sum([MSE(a2[i], b2.iloc[i]) for i in xrange(a2.shape[0])])\n",
    "        print \"loss2\", loss2\n",
    "\n",
    "        N.set_params(param_initial - perturb)\n",
    "\n",
    "        a1= N.forward(X)\n",
    "\n",
    "        b1 = N.one_hot(y)\n",
    "        loss1 = np.sum([MSE(a1[i], b1.iloc[i]) for i in xrange(a1.shape[0])])\n",
    "        print \"loss1\", loss1\n",
    "\n",
    "        #print \" a2 != a1?\", np.sum(a2 != a1)\n",
    "        # compute numerical gradient\n",
    "        numgrad[p] = (loss2-loss1)/(2*e)\n",
    "        \n",
    "        # return the value we changed back to zero\n",
    "        perturb[p] = 0\n",
    "    \n",
    "    # return params to original value\n",
    "    N.set_params(param_initial)\n",
    "        \n",
    "    return numgrad"
   ]
  },
  {
   "cell_type": "code",
   "execution_count": 33,
   "metadata": {
    "collapsed": true
   },
   "outputs": [],
   "source": [
    "def one_hot(y):\n",
    "    '''\n",
    "    Input: vector\n",
    "    Returns: one-hot encoding\n",
    "    '''\n",
    "    return pd.get_dummies(y.ravel())"
   ]
  },
  {
   "cell_type": "code",
   "execution_count": null,
   "metadata": {
    "collapsed": true
   },
   "outputs": [],
   "source": [
    "y_hot = one_hot(y_train)"
   ]
  },
  {
   "cell_type": "code",
   "execution_count": 147,
   "metadata": {
    "collapsed": false
   },
   "outputs": [],
   "source": [
    "class Neural_Network(object):\n",
    "    def __init__(self, learning_rate, epochs):\n",
    "        self.learning_rate = learning_rate\n",
    "        self.epochs = epochs\n",
    "        self.n_in = 784\n",
    "        #self.n_in = images.shape[1]\n",
    "        self.n_hid = 200\n",
    "        self.n_out = 10\n",
    "        #self.n_out = len(np.unique(labels))\n",
    "        self.V = 0.1*np.random.rand(self.n_hid,self.n_in+1)\n",
    "        self.W = 0.1*np.random.rand(self.n_out,self.n_hid + 1)\n",
    "        \n",
    "    def sigmoid(self, z):\n",
    "        # apply sigmoid activation function\n",
    "        return 1/(1+np.exp(-z))\n",
    "    \n",
    "    def sigmoid_prime(self,z):\n",
    "        # derivative of sigmoid function\n",
    "        g = self.sigmoid(z)\n",
    "        return np.multiply(g, 1-g)\n",
    "    \n",
    "    def tanh_prime(self,z):\n",
    "        # derivative fo tanh function\n",
    "        return 1 - np.tanh(z)**2\n",
    "    \n",
    "    def MSE(self,y):\n",
    "        '''\n",
    "        Mean-squared error function\n",
    "        y: vector, length n_out, ground truth label\n",
    "        z: vector, length n_out, z_k = value of k-th unit of output layer\n",
    "        '''\n",
    "        return .5*np.sum(np.square(np.linalg.norm(y - self.y_hat)))\n",
    "\n",
    "    def CEE(self,y):\n",
    "        '''\n",
    "        Cross-entropy error function\n",
    "        y: vector, length n_out, ground truth label\n",
    "        z: vector, length n_out, z_k = value of k-th unit of output layer\n",
    "        '''\n",
    "        #return sum(-(np.multiply(y,np.log(self.y_hat)) + np.multiply(1.0-y, np.log(1.0-self.y_hat))))\n",
    "        return -sum(y*np.log(self.y_hat) + (1-y)*np.log(1-self.y_hat))\n",
    "    \n",
    "    #def forward(self, X):\n",
    "    #    #propagate inputs through network\n",
    "    #    self.VX = np.dot(X,self.V.T)\n",
    "    #    self.h = np.tanh(self.VX)\n",
    "    #    \n",
    "    #    print \"h\",self.h.shape\n",
    "    #    print \"np.ones(self.h.shape[0]).reshape(-1,1)\", np.ones(self.h.shape[0]).reshape(-1,1).shape\n",
    "    #    self.h1 = np.vstack((self.h,np.ones(self.h.shape[1]).reshape(-1,1)))\n",
    "    #    \n",
    "    #    print \"h1\",self.h1.shape\n",
    "    #    \n",
    "    #    self.Wh = np.dot(self.h1,self.W.T)\n",
    "    #    self.y_hat = self.sigmoid(self.Wh)\n",
    "    #    \n",
    "    #    return self.y_hat\n",
    "    \n",
    "    def forward(self, X):\n",
    "        '''weights: trained weights, i.e. V;W\n",
    "        images: test set (features)\n",
    "        1. Compute labels of all images using the weights, V;W\n",
    "        2. return labels '''\n",
    "        \n",
    "        V = self.V\n",
    "        W = self.W\n",
    "\n",
    "        self.VX = np.dot(V, X.T)\n",
    "        self.h = np.tanh(self.VX)\n",
    "        if self.h.ndim>1:\n",
    "            self.h1 = np.vstack((self.h, np.ones(self.h.shape[1])))\n",
    "        else:\n",
    "            self.h1 = np.append(self.h, 1)\n",
    "        self.Wh = np.dot(W, self.h1)\n",
    "        self.y_hat = self.sigmoid(self.Wh).T \n",
    "        return self.y_hat\n",
    "    \n",
    "    \n",
    "    def MSE_prime(self, X, y):\n",
    "        '''\n",
    "        Cost function : Mean Squared Error\n",
    "        compute derivative with respect to V and W\n",
    "        \n",
    "        Input:\n",
    "        -----------------------------------------\n",
    "        X: vector size 784\n",
    "        y: vector size 10 (one hot encoded)\n",
    "        \n",
    "        Return: dJ/dV, dJ/dW\n",
    "        '''\n",
    "        \n",
    "        self.y_hat = self.forward(X)\n",
    "        delta3 = np.multiply((-(y-self.y_hat)), self.sigmoid_prime(self.Wh))\n",
    "        \n",
    "        dJdW = np.dot(self.h1.reshape(self.h1.shape[0],1),  delta3.reshape(delta3.shape[0],1).T).T       # shape dJdW (10L,201L)\n",
    "        delta1 = np.dot(delta3, self.W)\n",
    "        delta1 = np.delete(delta1, 200) # delete last column\n",
    "        \n",
    "        tmp = self.tanh_prime(self.VX)\n",
    "        delta2 = np.multiply(delta1,tmp)\n",
    "        dJdV = np.dot(X.reshape(X.shape[0],1), delta2.reshape(delta2.shape[0],1).T).T\n",
    "        return dJdV, dJdW\n",
    "    \n",
    "    def CEE_prime(self, X, y):\n",
    "        '''\n",
    "        Cost function : Cross-entropy error\n",
    "        compute derivative with respect to V and W\n",
    "        \n",
    "        Input:\n",
    "        -----------------------------------------\n",
    "        X: vector size 784\n",
    "        y: vector size 10 (one hot encoded)\n",
    "        \n",
    "        Return: dJ/dV, dJ/dW\n",
    "        '''\n",
    "        \n",
    "        self.y_hat = self.forward(X)\n",
    "        delta3 = -(y-self.y_hat)\n",
    "        \n",
    "        dJdW = np.dot(self.h1.reshape(self.h1.shape[0],1),  delta3.reshape(delta3.shape[0],1).T).T       # shape dJdW (10L,201L)\n",
    "        delta1 = np.dot(delta3, self.W)\n",
    "        delta1 = np.delete(delta1, 200) # delete last column\n",
    "        \n",
    "        tmp = self.tanh_prime(self.VX)\n",
    "        delta2 = np.multiply(delta1,tmp)\n",
    "        dJdV = np.dot(X.reshape(X.shape[0],1), delta2.reshape(delta2.shape[0],1).T).T\n",
    "        return dJdV, dJdW\n",
    "        \n",
    "    def train(self,images, labels, cost_function):\n",
    "        '''\n",
    "        Train dat neural net\n",
    "        \n",
    "        Input:\n",
    "        --------------------------------------------\n",
    "        images: array-like n_samples x n_in , training instances\n",
    "        labels: vector size n_samples, target labels\n",
    "        cost_function: 'MSE' (mean squared error) or 'CEE' (cross entropy)   \n",
    "        \n",
    "        Returns:\n",
    "        --------------------------------------------\n",
    "        self\n",
    "        '''        \n",
    "        start = time.time()\n",
    "        # store costs\n",
    "        self.cost = []\n",
    "        \n",
    "        self.pred_train = []\n",
    "        self.pred_val =[]\n",
    "        count = 0\n",
    "        \n",
    "        if cost_function == \"MSE\":\n",
    "            for e in xrange(self.epochs):\n",
    "                if e>=1:\n",
    "                    tmp = time.time()\n",
    "                    print \"epoch\",e, \"latest validation accuracy\", self.pred_val[-1], \"Time elapsed\", tmp-start\n",
    "                X,y = shuffle(images,labels)\n",
    "\n",
    "                for i in xrange(X.shape[0]):\n",
    "                    self.train_MSE(X[i],y.iloc[i])\n",
    "                    count += 1\n",
    "\n",
    "                    if count%1000 == 0:\n",
    "                        self.forward(images)                \n",
    "                        J = self.MSE(labels)\n",
    "                        self.cost.append(J)\n",
    "\n",
    "                        pred_train = self.predict(X_train)\n",
    "                        predictions_train = []\n",
    "                        for i in xrange(pred_train.shape[0]):\n",
    "                            predictions_train.append(np.argmax(pred_train[i]))\n",
    "                        acc_train = np.sum(predictions_train == y_train.ravel())/float(len(y_train.ravel()))\n",
    "                        #print \"accuracy train\", acc_train\n",
    "                        self.pred_train.append(acc_train)\n",
    "\n",
    "                        pred_val = self.predict(X_val)\n",
    "                        predictions_val = []\n",
    "                        for i in xrange(pred_val.shape[0]):\n",
    "                            predictions_val.append(np.argmax(pred_val[i]))\n",
    "                        acc_val = np.sum(predictions_val == y_val.ravel())/float(len(y_val.ravel()))\n",
    "                        #print \"accuracy val\", acc_val\n",
    "                        self.pred_val.append(acc_val)\n",
    "        elif cost_function == \"CEE\":\n",
    "            for e in xrange(self.epochs):\n",
    "                if e>=1:\n",
    "                    tmp = time.time()\n",
    "                    print \"epoch\",e, \"latest validation accuracy\", self.pred_val[-1], \"Time elapsed\", tmp-start\n",
    "                X,y = shuffle(images,labels)\n",
    "\n",
    "                for i in xrange(X.shape[0]):\n",
    "                    self.train_CEE(X[i],y.iloc[i])\n",
    "                    count += 1\n",
    "\n",
    "                    if count%1000 == 0:\n",
    "                        self.forward(images)                \n",
    "                        J = self.CEE(labels)\n",
    "                        self.cost.append(J)\n",
    "\n",
    "                        pred_train = self.predict(X_train)\n",
    "                        predictions_train = []\n",
    "                        for i in xrange(pred_train.shape[0]):\n",
    "                            predictions_train.append(np.argmax(pred_train[i]))\n",
    "                        acc_train = np.sum(predictions_train == y_train.ravel())/float(len(y_train.ravel()))\n",
    "                        #print \"accuracy train\", acc_train\n",
    "                        self.pred_train.append(acc_train)\n",
    "\n",
    "                        pred_val = self.predict(X_val)\n",
    "                        predictions_val = []\n",
    "                        for i in xrange(pred_val.shape[0]):\n",
    "                            predictions_val.append(np.argmax(pred_val[i]))\n",
    "                        acc_val = np.sum(predictions_val == y_val.ravel())/float(len(y_val.ravel()))\n",
    "                        #print \"accuracy val\", acc_val\n",
    "                        self.pred_val.append(acc_val)\n",
    "        else:\n",
    "            print \"Cost function not available\"\n",
    "    \n",
    "    \n",
    "    def train_MSE(self,images, labels):\n",
    "        djdv, djdw = self.MSE_prime(images,labels)\n",
    "        self.W -= self.learning_rate*djdw\n",
    "        self.V -= self.learning_rate*djdv\n",
    "    \n",
    "    def train_CEE(self,images, labels):\n",
    "        djdv, djdw = self.CEE_prime(images,labels)\n",
    "        self.W -= self.learning_rate*djdw\n",
    "        self.V -= self.learning_rate*djdv\n",
    "    \n",
    "    \n",
    "    def predict(self, images):\n",
    "        self.forward(images)\n",
    "        return self.y_hat\n",
    "        \n",
    "    def get_params(self):\n",
    "        # get V and W rolled into vector\n",
    "        params = np.concatenate((self.V.ravel(), self.W.ravel()))\n",
    "        return params\n",
    "    \n",
    "    def set_params(self, params):\n",
    "        # set V and W using single parameter vector\n",
    "        V_start = 0\n",
    "        V_end = self.n_hid*self.n_in\n",
    "        self.V = np.reshape(params[V_start:V_end], \\\n",
    "                           (self.n_hid, self.n_in))\n",
    "        W_end = V_end+ self.n_hid*self.n_out\n",
    "        self.W = np.reshape(params[V_end:],\\\n",
    "                           (self.n_out,self.n_hid))\n",
    "        \n",
    "    def compute_gradients(self,X,y):\n",
    "        dJdV, dJdW = self.cost_function_prime(X,y)\n",
    "        return np.concatenate((dJdV.ravel(), dJdW.ravel()))\n",
    "    \n",
    "    "
   ]
  },
  {
   "cell_type": "code",
   "execution_count": 127,
   "metadata": {
    "collapsed": false
   },
   "outputs": [
    {
     "name": "stdout",
     "output_type": "stream",
     "text": [
      "epoch 1 latest validation accuracy 0.9507 Time elapsed 236.194999933\n",
      "epoch 2 latest validation accuracy 0.9596 Time elapsed 472.459000111\n",
      "epoch 3 latest validation accuracy 0.9605 Time elapsed 708.045000076\n",
      "epoch 4 latest validation accuracy 0.9577 Time elapsed 945.27699995\n",
      "epoch 5 latest validation accuracy 0.9638 Time elapsed 1182.03299999\n",
      "epoch 6 latest validation accuracy 0.9627 Time elapsed 1418.60500002\n",
      "epoch 7 latest validation accuracy 0.9668 Time elapsed 1657.00699997\n",
      "epoch 8 latest validation accuracy 0.9677 Time elapsed 1897.07500005\n",
      "epoch 9 latest validation accuracy 0.9656 Time elapsed 2136.50399995\n",
      "epoch 10 latest validation accuracy 0.9691 Time elapsed 2371.30200005\n",
      "epoch 11 latest validation accuracy 0.9701 Time elapsed 2605.63199997\n",
      "epoch 12 latest validation accuracy 0.9681 Time elapsed 2843.53999996\n",
      "epoch 13 latest validation accuracy 0.9693 Time elapsed 3095.05900002\n",
      "epoch 14 latest validation accuracy 0.9699 Time elapsed 3334.95600009\n",
      "epoch 15 latest validation accuracy 0.969 Time elapsed 3588.96700001\n",
      "epoch 16 latest validation accuracy 0.973 Time elapsed 3836.62400007\n",
      "epoch 17 latest validation accuracy 0.971 Time elapsed 4161.53800011\n",
      "epoch 18 latest validation accuracy 0.9727 Time elapsed 4370.875\n",
      "epoch 19 latest validation accuracy 0.9732 Time elapsed 4573.14300013\n",
      "epoch 20 latest validation accuracy 0.9737 Time elapsed 4775.75500011\n",
      "epoch 21 latest validation accuracy 0.9738 Time elapsed 4976.4749999\n",
      "epoch 22 latest validation accuracy 0.9739 Time elapsed 5199.87000012\n",
      "epoch 23 latest validation accuracy 0.974 Time elapsed 5413.9289999\n",
      "epoch 24 latest validation accuracy 0.974 Time elapsed 5619.57599998\n",
      "epoch 25 latest validation accuracy 0.9741 Time elapsed 5828.55500007\n",
      "epoch 26 latest validation accuracy 0.9738 Time elapsed 6033.98900008\n",
      "epoch 27 latest validation accuracy 0.9741 Time elapsed 6240.16300011\n",
      "epoch 28 latest validation accuracy 0.9739 Time elapsed 6445.65899992\n",
      "epoch 29 latest validation accuracy 0.974 Time elapsed 6652.56699991\n",
      "Total duration 6863.6559999\n"
     ]
    }
   ],
   "source": [
    "start = time.time()\n",
    "NN_CEE = Neural_Network(0.01,30)\n",
    "NN_CEE.train(X_train,y_hot,\"CEE\")\n",
    "end = time.time()\n",
    "print \"Total duration\",end-start"
   ]
  },
  {
   "cell_type": "code",
   "execution_count": 132,
   "metadata": {
    "collapsed": true
   },
   "outputs": [],
   "source": [
    "plt.plot(NN_CEE.pred_train, color = 'red')\n",
    "plt.plot(NN_CEE.pred_val, color = 'blue')\n",
    "plt.ylabel('Accuracy')\n",
    "plt.legend(['training set','validation set'])\n",
    "plt.show()"
   ]
  },
  {
   "cell_type": "code",
   "execution_count": 148,
   "metadata": {
    "collapsed": false
   },
   "outputs": [
    {
     "name": "stdout",
     "output_type": "stream",
     "text": [
      "epoch 1 latest validation accuracy 0.9506 Time elapsed 235.198999882\n"
     ]
    },
    {
     "ename": "KeyboardInterrupt",
     "evalue": "",
     "output_type": "error",
     "traceback": [
      "\u001b[1;31m---------------------------------------------------------------------------\u001b[0m",
      "\u001b[1;31mKeyboardInterrupt\u001b[0m                         Traceback (most recent call last)",
      "\u001b[1;32m<ipython-input-148-9cb9dbb4de37>\u001b[0m in \u001b[0;36m<module>\u001b[1;34m()\u001b[0m\n\u001b[0;32m      1\u001b[0m \u001b[0mstart\u001b[0m \u001b[1;33m=\u001b[0m \u001b[0mtime\u001b[0m\u001b[1;33m.\u001b[0m\u001b[0mtime\u001b[0m\u001b[1;33m(\u001b[0m\u001b[1;33m)\u001b[0m\u001b[1;33m\u001b[0m\u001b[0m\n\u001b[0;32m      2\u001b[0m \u001b[0mNN_CEE2\u001b[0m \u001b[1;33m=\u001b[0m \u001b[0mNeural_Network\u001b[0m\u001b[1;33m(\u001b[0m\u001b[1;36m0.01\u001b[0m\u001b[1;33m,\u001b[0m\u001b[1;36m30\u001b[0m\u001b[1;33m)\u001b[0m\u001b[1;33m\u001b[0m\u001b[0m\n\u001b[1;32m----> 3\u001b[1;33m \u001b[0mNN_CEE2\u001b[0m\u001b[1;33m.\u001b[0m\u001b[0mtrain\u001b[0m\u001b[1;33m(\u001b[0m\u001b[0mX_train\u001b[0m\u001b[1;33m,\u001b[0m\u001b[0my_hot\u001b[0m\u001b[1;33m,\u001b[0m\u001b[1;34m\"CEE\"\u001b[0m\u001b[1;33m)\u001b[0m\u001b[1;33m\u001b[0m\u001b[0m\n\u001b[0m\u001b[0;32m      4\u001b[0m \u001b[0mend\u001b[0m \u001b[1;33m=\u001b[0m \u001b[0mtime\u001b[0m\u001b[1;33m.\u001b[0m\u001b[0mtime\u001b[0m\u001b[1;33m(\u001b[0m\u001b[1;33m)\u001b[0m\u001b[1;33m\u001b[0m\u001b[0m\n\u001b[0;32m      5\u001b[0m \u001b[1;32mprint\u001b[0m \u001b[1;34m\"Total duration\"\u001b[0m\u001b[1;33m,\u001b[0m\u001b[0mend\u001b[0m\u001b[1;33m-\u001b[0m\u001b[0mstart\u001b[0m\u001b[1;33m\u001b[0m\u001b[0m\n",
      "\u001b[1;32m<ipython-input-147-d4d2f43a6db4>\u001b[0m in \u001b[0;36mtrain\u001b[1;34m(self, images, labels, cost_function)\u001b[0m\n\u001b[0;32m    196\u001b[0m                         \u001b[0mself\u001b[0m\u001b[1;33m.\u001b[0m\u001b[0mcost\u001b[0m\u001b[1;33m.\u001b[0m\u001b[0mappend\u001b[0m\u001b[1;33m(\u001b[0m\u001b[0mJ\u001b[0m\u001b[1;33m)\u001b[0m\u001b[1;33m\u001b[0m\u001b[0m\n\u001b[0;32m    197\u001b[0m \u001b[1;33m\u001b[0m\u001b[0m\n\u001b[1;32m--> 198\u001b[1;33m                         \u001b[0mpred_train\u001b[0m \u001b[1;33m=\u001b[0m \u001b[0mself\u001b[0m\u001b[1;33m.\u001b[0m\u001b[0mpredict\u001b[0m\u001b[1;33m(\u001b[0m\u001b[0mX_train\u001b[0m\u001b[1;33m)\u001b[0m\u001b[1;33m\u001b[0m\u001b[0m\n\u001b[0m\u001b[0;32m    199\u001b[0m                         \u001b[0mpredictions_train\u001b[0m \u001b[1;33m=\u001b[0m \u001b[1;33m[\u001b[0m\u001b[1;33m]\u001b[0m\u001b[1;33m\u001b[0m\u001b[0m\n\u001b[0;32m    200\u001b[0m                         \u001b[1;32mfor\u001b[0m \u001b[0mi\u001b[0m \u001b[1;32min\u001b[0m \u001b[0mxrange\u001b[0m\u001b[1;33m(\u001b[0m\u001b[0mpred_train\u001b[0m\u001b[1;33m.\u001b[0m\u001b[0mshape\u001b[0m\u001b[1;33m[\u001b[0m\u001b[1;36m0\u001b[0m\u001b[1;33m]\u001b[0m\u001b[1;33m)\u001b[0m\u001b[1;33m:\u001b[0m\u001b[1;33m\u001b[0m\u001b[0m\n",
      "\u001b[1;32m<ipython-input-147-d4d2f43a6db4>\u001b[0m in \u001b[0;36mpredict\u001b[1;34m(self, images)\u001b[0m\n\u001b[0;32m    227\u001b[0m \u001b[1;33m\u001b[0m\u001b[0m\n\u001b[0;32m    228\u001b[0m     \u001b[1;32mdef\u001b[0m \u001b[0mpredict\u001b[0m\u001b[1;33m(\u001b[0m\u001b[0mself\u001b[0m\u001b[1;33m,\u001b[0m \u001b[0mimages\u001b[0m\u001b[1;33m)\u001b[0m\u001b[1;33m:\u001b[0m\u001b[1;33m\u001b[0m\u001b[0m\n\u001b[1;32m--> 229\u001b[1;33m         \u001b[0mself\u001b[0m\u001b[1;33m.\u001b[0m\u001b[0mforward\u001b[0m\u001b[1;33m(\u001b[0m\u001b[0mimages\u001b[0m\u001b[1;33m)\u001b[0m\u001b[1;33m\u001b[0m\u001b[0m\n\u001b[0m\u001b[0;32m    230\u001b[0m         \u001b[1;32mreturn\u001b[0m \u001b[0mself\u001b[0m\u001b[1;33m.\u001b[0m\u001b[0my_hat\u001b[0m\u001b[1;33m\u001b[0m\u001b[0m\n\u001b[0;32m    231\u001b[0m \u001b[1;33m\u001b[0m\u001b[0m\n",
      "\u001b[1;32m<ipython-input-147-d4d2f43a6db4>\u001b[0m in \u001b[0;36mforward\u001b[1;34m(self, X)\u001b[0m\n\u001b[0;32m     66\u001b[0m         \u001b[0mW\u001b[0m \u001b[1;33m=\u001b[0m \u001b[0mself\u001b[0m\u001b[1;33m.\u001b[0m\u001b[0mW\u001b[0m\u001b[1;33m\u001b[0m\u001b[0m\n\u001b[0;32m     67\u001b[0m \u001b[1;33m\u001b[0m\u001b[0m\n\u001b[1;32m---> 68\u001b[1;33m         \u001b[0mself\u001b[0m\u001b[1;33m.\u001b[0m\u001b[0mVX\u001b[0m \u001b[1;33m=\u001b[0m \u001b[0mnp\u001b[0m\u001b[1;33m.\u001b[0m\u001b[0mdot\u001b[0m\u001b[1;33m(\u001b[0m\u001b[0mV\u001b[0m\u001b[1;33m,\u001b[0m \u001b[0mX\u001b[0m\u001b[1;33m.\u001b[0m\u001b[0mT\u001b[0m\u001b[1;33m)\u001b[0m\u001b[1;33m\u001b[0m\u001b[0m\n\u001b[0m\u001b[0;32m     69\u001b[0m         \u001b[0mself\u001b[0m\u001b[1;33m.\u001b[0m\u001b[0mh\u001b[0m \u001b[1;33m=\u001b[0m \u001b[0mnp\u001b[0m\u001b[1;33m.\u001b[0m\u001b[0mtanh\u001b[0m\u001b[1;33m(\u001b[0m\u001b[0mself\u001b[0m\u001b[1;33m.\u001b[0m\u001b[0mVX\u001b[0m\u001b[1;33m)\u001b[0m\u001b[1;33m\u001b[0m\u001b[0m\n\u001b[0;32m     70\u001b[0m         \u001b[1;32mif\u001b[0m \u001b[0mself\u001b[0m\u001b[1;33m.\u001b[0m\u001b[0mh\u001b[0m\u001b[1;33m.\u001b[0m\u001b[0mndim\u001b[0m\u001b[1;33m>\u001b[0m\u001b[1;36m1\u001b[0m\u001b[1;33m:\u001b[0m\u001b[1;33m\u001b[0m\u001b[0m\n",
      "\u001b[1;31mKeyboardInterrupt\u001b[0m: "
     ]
    }
   ],
   "source": [
    "start = time.time()\n",
    "NN_CEE2 = Neural_Network(0.01,30)\n",
    "NN_CEE2.train(X_train,y_hot,\"CEE\")\n",
    "end = time.time()\n",
    "print \"Total duration\",end-start"
   ]
  },
  {
   "cell_type": "code",
   "execution_count": 149,
   "metadata": {
    "collapsed": false
   },
   "outputs": [],
   "source": [
    "plt.plot(NN_CEE2.cost)\n",
    "plt.show()"
   ]
  },
  {
   "cell_type": "code",
   "execution_count": 101,
   "metadata": {
    "collapsed": false
   },
   "outputs": [
    {
     "name": "stdout",
     "output_type": "stream",
     "text": [
      "epoch 2 latest validation accuracy 0.9536\n",
      "epoch 3 latest validation accuracy 0.9627\n",
      "epoch 4 latest validation accuracy 0.9666\n",
      "epoch 5 latest validation accuracy 0.9704\n",
      "epoch 6 latest validation accuracy 0.9692\n",
      "epoch 7 latest validation accuracy 0.9712\n",
      "epoch 8 latest validation accuracy 0.9711\n",
      "epoch 9 latest validation accuracy 0.9726\n",
      "epoch 10 latest validation accuracy 0.9738\n",
      "epoch 11 latest validation accuracy 0.9737\n",
      "epoch 12 latest validation accuracy 0.9726\n",
      "epoch 13 latest validation accuracy 0.9744\n",
      "epoch 14 latest validation accuracy 0.9736\n",
      "epoch 15 latest validation accuracy 0.9726\n",
      "epoch 16 latest validation accuracy 0.9732\n",
      "epoch 17 latest validation accuracy 0.9735\n",
      "epoch 18 latest validation accuracy 0.9752\n",
      "epoch 19 latest validation accuracy 0.9742\n",
      "epoch 20 latest validation accuracy 0.9744\n",
      "epoch 21 latest validation accuracy 0.9741\n",
      "epoch 22 latest validation accuracy 0.9738\n",
      "epoch 23 latest validation accuracy 0.9747\n",
      "epoch 24 latest validation accuracy 0.9748\n",
      "epoch 25 latest validation accuracy 0.9742\n",
      "epoch 26 latest validation accuracy 0.975\n",
      "epoch 27 latest validation accuracy 0.9751\n",
      "epoch 28 latest validation accuracy 0.9746\n",
      "epoch 29 latest validation accuracy 0.9747\n",
      "epoch 30 latest validation accuracy 0.9746\n",
      "epoch 31 latest validation accuracy 0.9753\n",
      "epoch 32 latest validation accuracy 0.9752\n",
      "epoch 33 latest validation accuracy 0.975\n",
      "epoch 34 latest validation accuracy 0.9757\n"
     ]
    }
   ],
   "source": [
    "foo = Neural_Network(0.01,35)\n",
    "foo.train(X_train,y_hot,\"MSE\")"
   ]
  },
  {
   "cell_type": "code",
   "execution_count": 137,
   "metadata": {
    "collapsed": false
   },
   "outputs": [
    {
     "name": "stdout",
     "output_type": "stream",
     "text": [
      "epoch 1 latest validation accuracy 0.9206 Time elapsed 252.832999945\n",
      "epoch 2 latest validation accuracy 0.9304 Time elapsed 504.828999996\n",
      "epoch 3 latest validation accuracy 0.9362 Time elapsed 769.933000088\n",
      "epoch 4 latest validation accuracy 0.9318 Time elapsed 1019.66799998\n"
     ]
    }
   ],
   "source": [
    "foo2 = Neural_Network(0.1,5)\n",
    "foo2.train(X_train,y_hot,\"MSE\")"
   ]
  },
  {
   "cell_type": "code",
   "execution_count": 142,
   "metadata": {
    "collapsed": false
   },
   "outputs": [
    {
     "data": {
      "text/plain": [
       "0.94579999999999997"
      ]
     },
     "execution_count": 142,
     "metadata": {},
     "output_type": "execute_result"
    }
   ],
   "source": [
    "foo2.pred_train[-1]"
   ]
  },
  {
   "cell_type": "code",
   "execution_count": 102,
   "metadata": {
    "collapsed": false
   },
   "outputs": [
    {
     "name": "stdout",
     "output_type": "stream",
     "text": [
      "epoch 2 latest validation accuracy 0.9289\n",
      "epoch 3 latest validation accuracy 0.9419\n",
      "epoch 4 latest validation accuracy 0.9396\n",
      "epoch 5 latest validation accuracy 0.9444\n",
      "epoch 6 latest validation accuracy 0.9463\n",
      "epoch 7 latest validation accuracy 0.9518\n",
      "epoch 8 latest validation accuracy 0.9444\n",
      "epoch 9 latest validation accuracy 0.9482\n",
      "epoch 10 latest validation accuracy 0.9522\n",
      "epoch 11 latest validation accuracy 0.9486\n",
      "epoch 12 latest validation accuracy 0.9561\n",
      "epoch 13 latest validation accuracy 0.9546\n",
      "epoch 14 latest validation accuracy 0.9543\n",
      "epoch 15 latest validation accuracy 0.9571\n",
      "epoch 16 latest validation accuracy 0.9534\n",
      "epoch 17 latest validation accuracy 0.9546\n",
      "epoch 18 latest validation accuracy 0.9545\n",
      "epoch 19 latest validation accuracy 0.9528\n",
      "epoch 20 latest validation accuracy 0.9549\n",
      "epoch 21 latest validation accuracy 0.9605\n",
      "epoch 22 latest validation accuracy 0.9567\n",
      "epoch 23 latest validation accuracy 0.9589\n",
      "epoch 24 latest validation accuracy 0.9588\n",
      "epoch 25 latest validation accuracy 0.9596\n",
      "epoch 26 latest validation accuracy 0.9593\n",
      "epoch 27 latest validation accuracy 0.9596\n",
      "epoch 28 latest validation accuracy 0.9589\n",
      "epoch 29 latest validation accuracy 0.9582\n"
     ]
    }
   ],
   "source": [
    "bar = Neural_Network(0.1,30)\n",
    "bar.train(X_train,y_hot,\"MSE\")"
   ]
  },
  {
   "cell_type": "code",
   "execution_count": 110,
   "metadata": {
    "collapsed": true
   },
   "outputs": [],
   "source": [
    "%matplotlib qt"
   ]
  },
  {
   "cell_type": "code",
   "execution_count": 133,
   "metadata": {
    "collapsed": false
   },
   "outputs": [],
   "source": [
    "plt.plot(foo.pred_train, color ='red')\n",
    "plt.plot(foo.pred_val)\n",
    "plt.xlabel('Number of iterations (x1000)')\n",
    "plt.ylabel('Accuracy')\n",
    "plt.legend(['training set','validation set'])\n",
    "plt.show()"
   ]
  },
  {
   "cell_type": "code",
   "execution_count": 134,
   "metadata": {
    "collapsed": false
   },
   "outputs": [],
   "source": [
    "plt.plot(bar.pred_train, color ='red')\n",
    "plt.plot(bar.pred_val)\n",
    "plt.xlabel('Number of iterations (x1000)')\n",
    "plt.ylabel('Accuracy')\n",
    "plt.legend(['training set','validation set'])\n",
    "plt.show()"
   ]
  },
  {
   "cell_type": "code",
   "execution_count": 72,
   "metadata": {
    "collapsed": false
   },
   "outputs": [
    {
     "name": "stdout",
     "output_type": "stream",
     "text": [
      "epoch 0\n",
      "1000 15432.3903288\n",
      "accuracy train 0.67112\n",
      "accuracy val 0.6649\n",
      "2000 11609.4480083\n",
      "accuracy train 0.75054\n",
      "accuracy val 0.7543\n",
      "3000 9764.58748916\n",
      "accuracy train 0.80682\n",
      "accuracy val 0.8082\n",
      "4000 8490.75897219\n",
      "accuracy train 0.82716\n",
      "accuracy val 0.8274\n",
      "5000 0.0\n",
      "accuracy train 0.8349\n",
      "accuracy val 0.8314\n",
      "6000 7187.55185216\n",
      "accuracy train 0.84648\n",
      "accuracy val 0.8468\n",
      "7000 0.0\n",
      "accuracy train 0.84664\n",
      "accuracy val 0.8439\n",
      "8000 6283.39306422\n",
      "accuracy train 0.85976\n",
      "accuracy val 0.8631\n",
      "9000 6024.5253787\n",
      "accuracy train 0.86454\n",
      "accuracy val 0.863\n",
      "10000 5811.60315051\n",
      "accuracy train 0.8702\n",
      "accuracy val 0.8677\n",
      "11000 5599.13523334\n",
      "accuracy train 0.87296\n",
      "accuracy val 0.8732\n",
      "12000 0.0\n",
      "accuracy train 0.8803\n",
      "accuracy val 0.8803\n",
      "13000 5253.4622225\n",
      "accuracy train 0.87882\n",
      "accuracy val 0.8779\n",
      "14000 5113.42605091\n",
      "accuracy train 0.88604\n",
      "accuracy val 0.8832\n",
      "15000 4896.64553852\n",
      "accuracy train 0.89012\n",
      "accuracy val 0.8885\n",
      "16000 4717.60661008\n",
      "accuracy train 0.8934\n",
      "accuracy val 0.8922\n",
      "17000 4700.80331668\n",
      "accuracy train 0.89382\n",
      "accuracy val 0.8921\n",
      "18000 4539.27192514\n",
      "accuracy train 0.8968\n",
      "accuracy val 0.8923\n",
      "19000 4408.20140946\n",
      "accuracy train 0.9004\n",
      "accuracy val 0.8959\n",
      "20000 4384.59000459\n",
      "accuracy train 0.89942\n",
      "accuracy val 0.8959\n",
      "21000 4225.99277005\n",
      "accuracy train 0.9045\n",
      "accuracy val 0.9004\n",
      "22000 4160.46446492\n",
      "accuracy train 0.90528\n",
      "accuracy val 0.9033\n",
      "23000 3992.98836349\n",
      "accuracy train 0.90928\n",
      "accuracy val 0.9065\n",
      "24000 4047.54718648\n",
      "accuracy train 0.9069\n",
      "accuracy val 0.9054\n",
      "25000 3881.38105745\n",
      "accuracy train 0.91124\n",
      "accuracy val 0.9094\n",
      "26000 0.0\n",
      "accuracy train 0.91126\n",
      "accuracy val 0.9086\n",
      "27000 3722.75414421\n",
      "accuracy train 0.91598\n",
      "accuracy val 0.9124\n",
      "28000 3709.62869404\n",
      "accuracy train 0.9165\n",
      "accuracy val 0.9113\n",
      "29000 3641.33293948\n",
      "accuracy train 0.91612\n",
      "accuracy val 0.913\n",
      "30000 3632.21279279\n",
      "accuracy train 0.91784\n",
      "accuracy val 0.9154\n",
      "31000 3669.65577941\n",
      "accuracy train 0.91686\n",
      "accuracy val 0.9112\n",
      "32000 3520.29650182\n",
      "accuracy train 0.92092\n",
      "accuracy val 0.9182\n",
      "33000 3460.57972697\n",
      "accuracy train 0.92342\n",
      "accuracy val 0.9202\n",
      "34000 3277.76040383\n",
      "accuracy train 0.92752\n",
      "accuracy val 0.9226\n",
      "35000 3314.73747534\n",
      "accuracy train 0.92658\n",
      "accuracy val 0.9222\n",
      "36000 0.0\n",
      "accuracy train 0.9276\n",
      "accuracy val 0.9234\n",
      "37000 3310.27147558\n",
      "accuracy train 0.92634\n",
      "accuracy val 0.9215\n",
      "38000 3178.04172869\n",
      "accuracy train 0.9294\n",
      "accuracy val 0.9261\n",
      "39000 3118.59171377\n",
      "accuracy train 0.93018\n",
      "accuracy val 0.9271\n",
      "40000 3100.97716985\n",
      "accuracy train 0.93134\n",
      "accuracy val 0.9281\n",
      "41000 3058.54857723\n",
      "accuracy train 0.93146\n",
      "accuracy val 0.9272\n",
      "42000 3082.980716\n",
      "accuracy train 0.93256\n",
      "accuracy val 0.9304\n",
      "43000 2996.68846434\n",
      "accuracy train 0.9349\n",
      "accuracy val 0.9311\n",
      "44000 2941.57301616\n",
      "accuracy train 0.93414\n",
      "accuracy val 0.9297\n",
      "45000 2894.06164941\n",
      "accuracy train 0.93674\n",
      "accuracy val 0.9325\n",
      "46000 2903.53423036\n",
      "accuracy train 0.93486\n",
      "accuracy val 0.9322\n",
      "47000 2939.06618716\n",
      "accuracy train 0.93348\n",
      "accuracy val 0.93\n",
      "48000 2797.13124433\n",
      "accuracy train 0.93822\n",
      "accuracy val 0.934\n",
      "49000 2764.95441802\n",
      "accuracy train 0.93772\n",
      "accuracy val 0.933\n",
      "50000 2824.73039862\n",
      "accuracy train 0.93764\n",
      "accuracy val 0.9323\n",
      "epoch 1\n",
      "51000 2783.1225802\n",
      "accuracy train 0.93848\n",
      "accuracy val 0.932\n",
      "52000 2692.01029659\n",
      "accuracy train 0.93992\n",
      "accuracy val 0.9351\n",
      "53000 2712.41241671\n",
      "accuracy train 0.93992\n",
      "accuracy val 0.9351\n",
      "54000 2691.05958209\n",
      "accuracy train 0.94084\n",
      "accuracy val 0.9354\n",
      "55000 2578.4912267\n",
      "accuracy train 0.94244\n",
      "accuracy val 0.9381\n",
      "56000 2626.81905048\n",
      "accuracy train 0.94118\n",
      "accuracy val 0.9366\n",
      "57000 2843.60078449\n",
      "accuracy train 0.93476\n",
      "accuracy val 0.9307\n",
      "58000 2512.44622753\n",
      "accuracy train 0.94532\n",
      "accuracy val 0.9406\n",
      "59000 2577.19265231\n",
      "accuracy train 0.94438\n",
      "accuracy val 0.9379\n",
      "60000 2564.17437275\n",
      "accuracy train 0.94446\n",
      "accuracy val 0.9366\n",
      "61000 2559.6665801\n",
      "accuracy train 0.94426\n",
      "accuracy val 0.9382\n",
      "62000 2498.59069099\n",
      "accuracy train 0.94546\n",
      "accuracy val 0.9384\n",
      "63000 2437.11572315\n",
      "accuracy train 0.94686\n",
      "accuracy val 0.9402\n",
      "64000 2364.65963268\n",
      "accuracy train 0.94778\n",
      "accuracy val 0.9434\n",
      "65000 2416.74570088\n",
      "accuracy train 0.94694\n",
      "accuracy val 0.9398\n",
      "66000 2406.34560175\n",
      "accuracy train 0.94654\n",
      "accuracy val 0.94\n",
      "67000 0.0\n",
      "accuracy train 0.95046\n",
      "accuracy val 0.9426\n",
      "68000 2406.22900148\n",
      "accuracy train 0.94782\n",
      "accuracy val 0.9421\n",
      "69000 2290.37893292\n",
      "accuracy train 0.95002\n",
      "accuracy val 0.9441\n",
      "70000 2258.27487117\n",
      "accuracy train 0.95082\n",
      "accuracy val 0.9445\n",
      "71000 2257.17746809\n",
      "accuracy train 0.95108\n",
      "accuracy val 0.9437\n",
      "72000 2209.6416108\n",
      "accuracy train 0.9526\n",
      "accuracy val 0.9443\n",
      "73000 2197.72869186\n",
      "accuracy train 0.95186\n",
      "accuracy val 0.9458\n",
      "74000 2266.54094657\n",
      "accuracy train 0.95096\n",
      "accuracy val 0.9427\n",
      "75000 2211.02705778\n",
      "accuracy train 0.9521\n",
      "accuracy val 0.9448\n",
      "76000 2129.74630588\n",
      "accuracy train 0.95404\n",
      "accuracy val 0.9467\n",
      "77000 2186.12153811\n",
      "accuracy train 0.95374\n",
      "accuracy val 0.9482\n",
      "78000 2084.8455638\n",
      "accuracy train 0.95552\n",
      "accuracy val 0.9494\n",
      "79000 2083.53405484\n",
      "accuracy train 0.9562\n",
      "accuracy val 0.9495\n",
      "80000 2138.03656119\n",
      "accuracy train 0.9543\n",
      "accuracy val 0.9477\n",
      "81000 2070.11911916\n",
      "accuracy train 0.95614\n",
      "accuracy val 0.9488\n",
      "82000 2114.35490741\n",
      "accuracy train 0.95484\n",
      "accuracy val 0.9471\n",
      "83000 2092.12370202\n",
      "accuracy train 0.95596\n",
      "accuracy val 0.9473\n",
      "84000 2145.66408791\n",
      "accuracy train 0.9564\n",
      "accuracy val 0.9467\n",
      "85000 2038.59813441\n",
      "accuracy train 0.95762\n",
      "accuracy val 0.9467\n",
      "86000 2037.55899578\n",
      "accuracy train 0.95674\n",
      "accuracy val 0.9484\n",
      "87000 1996.63724399\n",
      "accuracy train 0.95778\n",
      "accuracy val 0.9496\n",
      "88000 1980.27291206\n",
      "accuracy train 0.9578\n",
      "accuracy val 0.951\n",
      "89000 1973.07741642\n",
      "accuracy train 0.9586\n",
      "accuracy val 0.9508\n",
      "90000 1889.53134512\n",
      "accuracy train 0.96008\n",
      "accuracy val 0.9529\n",
      "91000 0.0\n",
      "accuracy train 0.95798\n",
      "accuracy val 0.9505\n",
      "92000 1927.96828411\n",
      "accuracy train 0.9599\n",
      "accuracy val 0.9516\n",
      "93000 1896.99777905\n",
      "accuracy train 0.95912\n",
      "accuracy val 0.9539\n",
      "94000 1942.21743323\n",
      "accuracy train 0.95998\n",
      "accuracy val 0.9524\n",
      "95000 1845.20021226\n",
      "accuracy train 0.96192\n",
      "accuracy val 0.9532\n",
      "96000 1890.45490403\n",
      "accuracy train 0.96056\n",
      "accuracy val 0.9515\n",
      "97000 1924.30699885\n",
      "accuracy train 0.9609\n",
      "accuracy val 0.9523\n",
      "98000 1813.94432172\n",
      "accuracy train 0.96256\n",
      "accuracy val 0.9548\n",
      "99000 1799.05678117\n",
      "accuracy train 0.96294\n",
      "accuracy val 0.9539\n",
      "100000 1789.05559827\n",
      "accuracy train 0.9624\n",
      "accuracy val 0.9542\n",
      "epoch 2\n",
      "101000 1758.56219904\n",
      "accuracy train 0.96352\n",
      "accuracy val 0.9552\n",
      "102000 1793.86063446\n",
      "accuracy train 0.962\n",
      "accuracy val 0.9546\n",
      "103000 1741.21927826\n",
      "accuracy train 0.96468\n",
      "accuracy val 0.9556\n",
      "104000 1762.70968735\n",
      "accuracy train 0.96378\n",
      "accuracy val 0.9557\n",
      "105000 1756.48213061\n",
      "accuracy train 0.96322\n",
      "accuracy val 0.9545\n",
      "106000 1750.01881861\n",
      "accuracy train 0.9644\n",
      "accuracy val 0.9551\n",
      "107000 1752.53320562\n",
      "accuracy train 0.96476\n",
      "accuracy val 0.9551\n",
      "108000 1700.40659236\n",
      "accuracy train 0.96506\n",
      "accuracy val 0.9556\n",
      "109000 1733.59970679\n",
      "accuracy train 0.96458\n",
      "accuracy val 0.9544\n",
      "110000 1704.75107788\n",
      "accuracy train 0.96408\n",
      "accuracy val 0.9563\n",
      "111000 1728.50089088\n",
      "accuracy train 0.96462\n",
      "accuracy val 0.9549\n",
      "112000 1671.38202283\n",
      "accuracy train 0.96554\n",
      "accuracy val 0.956\n",
      "113000 1663.46583809\n",
      "accuracy train 0.96558\n",
      "accuracy val 0.9568\n",
      "114000 1675.33515395\n",
      "accuracy train 0.96478\n",
      "accuracy val 0.956\n",
      "115000 1664.19134179\n",
      "accuracy train 0.96608\n",
      "accuracy val 0.9567\n",
      "116000 1642.01586058\n",
      "accuracy train 0.9669\n",
      "accuracy val 0.9576\n",
      "117000 1639.55033364\n",
      "accuracy train 0.96676\n",
      "accuracy val 0.9568\n",
      "118000 1582.6500569\n",
      "accuracy train 0.96812\n",
      "accuracy val 0.9588\n",
      "119000 1608.62355736\n",
      "accuracy train 0.96712\n",
      "accuracy val 0.9582\n",
      "120000 1615.76388595\n",
      "accuracy train 0.96822\n",
      "accuracy val 0.9588\n",
      "121000 1600.71577998\n",
      "accuracy train 0.9674\n",
      "accuracy val 0.958\n",
      "122000 1552.99791001\n",
      "accuracy train 0.96844\n",
      "accuracy val 0.9589\n",
      "123000 1563.45941346\n",
      "accuracy train 0.9684\n",
      "accuracy val 0.9583\n",
      "124000 1556.94052819\n",
      "accuracy train 0.96864\n",
      "accuracy val 0.9588\n",
      "125000 1581.92324897\n",
      "accuracy train 0.96804\n",
      "accuracy val 0.9596\n",
      "126000 1595.52844758\n",
      "accuracy train 0.96796\n",
      "accuracy val 0.9581\n",
      "127000 1515.8503212\n",
      "accuracy train 0.96872\n",
      "accuracy val 0.9602\n",
      "128000 1526.24166771\n",
      "accuracy train 0.96942\n",
      "accuracy val 0.9601\n",
      "129000 1509.62463408\n",
      "accuracy train 0.96956\n",
      "accuracy val 0.9592\n",
      "130000 1525.69059994\n",
      "accuracy train 0.96816\n",
      "accuracy val 0.9601\n",
      "131000 1520.9820115\n",
      "accuracy train 0.96962\n",
      "accuracy val 0.9594\n",
      "132000 1530.63962947\n",
      "accuracy train 0.96886\n",
      "accuracy val 0.9597\n",
      "133000 0.0\n",
      "accuracy train 0.97054\n",
      "accuracy val 0.9601\n",
      "134000 1472.84564871\n",
      "accuracy train 0.97006\n",
      "accuracy val 0.9595\n",
      "135000 1429.07863227\n",
      "accuracy train 0.97098\n",
      "accuracy val 0.9614\n",
      "136000 1474.18668203\n",
      "accuracy train 0.97052\n",
      "accuracy val 0.96\n",
      "137000 1465.53573441\n",
      "accuracy train 0.97108\n",
      "accuracy val 0.9601\n",
      "138000 1423.40698476\n",
      "accuracy train 0.97132\n",
      "accuracy val 0.9604\n",
      "139000 1400.46067624\n",
      "accuracy train 0.97162\n",
      "accuracy val 0.96\n",
      "140000 1435.28797688\n",
      "accuracy train 0.97118\n",
      "accuracy val 0.9605\n",
      "141000 1436.81298135\n",
      "accuracy train 0.97212\n",
      "accuracy val 0.9618\n",
      "142000 1454.62301813\n",
      "accuracy train 0.9718\n",
      "accuracy val 0.9609\n",
      "143000 1441.86781457\n",
      "accuracy train 0.97134\n",
      "accuracy val 0.9604\n",
      "144000 1457.8987597\n",
      "accuracy train 0.97068\n",
      "accuracy val 0.96\n",
      "145000 1382.93037317\n",
      "accuracy train 0.97246\n",
      "accuracy val 0.961\n",
      "146000 1388.15338989\n",
      "accuracy train 0.97202\n",
      "accuracy val 0.9611\n",
      "147000 1394.50775405\n",
      "accuracy train 0.97218\n",
      "accuracy val 0.9608\n",
      "148000 1394.83568983\n",
      "accuracy train 0.97218\n",
      "accuracy val 0.9611\n",
      "149000 1383.41918903\n",
      "accuracy train 0.97264\n",
      "accuracy val 0.9629\n",
      "150000 1365.50522819\n",
      "accuracy train 0.97374\n",
      "accuracy val 0.9616\n",
      "epoch 3\n",
      "151000 1333.07620406\n",
      "accuracy train 0.97362\n",
      "accuracy val 0.9629\n",
      "152000 1308.97201464\n",
      "accuracy train 0.97402\n",
      "accuracy val 0.963\n",
      "153000 1326.69452474\n",
      "accuracy train 0.97358\n",
      "accuracy val 0.9637\n",
      "154000 1332.58277839\n",
      "accuracy train 0.97386\n",
      "accuracy val 0.9634\n",
      "155000 1328.29067897\n",
      "accuracy train 0.97372\n",
      "accuracy val 0.9631\n",
      "156000 1309.22887954\n",
      "accuracy train 0.97514\n",
      "accuracy val 0.963\n",
      "157000 1298.97738783\n",
      "accuracy train 0.9749\n",
      "accuracy val 0.9642\n",
      "158000 1270.10209645\n",
      "accuracy train 0.97528\n",
      "accuracy val 0.9634\n",
      "159000 1364.4839745\n",
      "accuracy train 0.97416\n",
      "accuracy val 0.9637\n",
      "160000 1288.26585076\n",
      "accuracy train 0.97476\n",
      "accuracy val 0.964\n",
      "161000 1268.15094465\n",
      "accuracy train 0.97468\n",
      "accuracy val 0.9636\n",
      "162000 1289.04152918\n",
      "accuracy train 0.97532\n",
      "accuracy val 0.9643\n",
      "163000 1326.75517928\n",
      "accuracy train 0.97332\n",
      "accuracy val 0.9633\n",
      "164000 1304.71946715\n",
      "accuracy train 0.974\n",
      "accuracy val 0.9639\n",
      "165000 1248.55597595\n",
      "accuracy train 0.97546\n",
      "accuracy val 0.9648\n",
      "166000 1267.90934174\n",
      "accuracy train 0.97484\n",
      "accuracy val 0.9634\n",
      "167000 1236.74523135\n",
      "accuracy train 0.97624\n",
      "accuracy val 0.9642\n",
      "168000 1263.48136423\n",
      "accuracy train 0.97504\n",
      "accuracy val 0.9634\n",
      "169000 1228.76230498\n",
      "accuracy train 0.97634\n",
      "accuracy val 0.9641\n",
      "170000 1215.54727326\n",
      "accuracy train 0.97656\n",
      "accuracy val 0.9655\n"
     ]
    },
    {
     "ename": "KeyboardInterrupt",
     "evalue": "",
     "output_type": "error",
     "traceback": [
      "\u001b[1;31m---------------------------------------------------------------------------\u001b[0m",
      "\u001b[1;31mKeyboardInterrupt\u001b[0m                         Traceback (most recent call last)",
      "\u001b[1;32m<ipython-input-72-a52dff21eb98>\u001b[0m in \u001b[0;36m<module>\u001b[1;34m()\u001b[0m\n\u001b[0;32m      1\u001b[0m \u001b[0mNN\u001b[0m \u001b[1;33m=\u001b[0m \u001b[0mNeural_Network\u001b[0m\u001b[1;33m(\u001b[0m\u001b[1;36m0.01\u001b[0m\u001b[1;33m,\u001b[0m\u001b[1;36m35\u001b[0m\u001b[1;33m)\u001b[0m\u001b[1;33m\u001b[0m\u001b[0m\n\u001b[1;32m----> 2\u001b[1;33m \u001b[0mNN\u001b[0m\u001b[1;33m.\u001b[0m\u001b[0mtrain\u001b[0m\u001b[1;33m(\u001b[0m\u001b[0mX_train\u001b[0m\u001b[1;33m,\u001b[0m\u001b[0my_hot\u001b[0m\u001b[1;33m,\u001b[0m\u001b[1;36m1\u001b[0m\u001b[1;33m)\u001b[0m\u001b[1;33m\u001b[0m\u001b[0m\n\u001b[0m",
      "\u001b[1;32m<ipython-input-71-3db4728adb75>\u001b[0m in \u001b[0;36mtrain\u001b[1;34m(self, images, labels, cost_function)\u001b[0m\n\u001b[0;32m    136\u001b[0m             \u001b[1;32mfor\u001b[0m \u001b[0mi\u001b[0m \u001b[1;32min\u001b[0m \u001b[0mxrange\u001b[0m\u001b[1;33m(\u001b[0m\u001b[0mX\u001b[0m\u001b[1;33m.\u001b[0m\u001b[0mshape\u001b[0m\u001b[1;33m[\u001b[0m\u001b[1;36m0\u001b[0m\u001b[1;33m]\u001b[0m\u001b[1;33m)\u001b[0m\u001b[1;33m:\u001b[0m\u001b[1;33m\u001b[0m\u001b[0m\n\u001b[0;32m    137\u001b[0m \u001b[1;33m\u001b[0m\u001b[0m\n\u001b[1;32m--> 138\u001b[1;33m                 \u001b[0mself\u001b[0m\u001b[1;33m.\u001b[0m\u001b[0mtrain_MSE\u001b[0m\u001b[1;33m(\u001b[0m\u001b[0mX\u001b[0m\u001b[1;33m[\u001b[0m\u001b[0mi\u001b[0m\u001b[1;33m]\u001b[0m\u001b[1;33m,\u001b[0m\u001b[0my\u001b[0m\u001b[1;33m.\u001b[0m\u001b[0miloc\u001b[0m\u001b[1;33m[\u001b[0m\u001b[0mi\u001b[0m\u001b[1;33m]\u001b[0m\u001b[1;33m)\u001b[0m\u001b[1;33m\u001b[0m\u001b[0m\n\u001b[0m\u001b[0;32m    139\u001b[0m                 \u001b[0mcount\u001b[0m \u001b[1;33m+=\u001b[0m \u001b[1;36m1\u001b[0m\u001b[1;33m\u001b[0m\u001b[0m\n\u001b[0;32m    140\u001b[0m \u001b[1;33m\u001b[0m\u001b[0m\n",
      "\u001b[1;32m<ipython-input-71-3db4728adb75>\u001b[0m in \u001b[0;36mtrain_MSE\u001b[1;34m(self, images, labels)\u001b[0m\n\u001b[0;32m    163\u001b[0m \u001b[1;33m\u001b[0m\u001b[0m\n\u001b[0;32m    164\u001b[0m     \u001b[1;32mdef\u001b[0m \u001b[0mtrain_MSE\u001b[0m\u001b[1;33m(\u001b[0m\u001b[0mself\u001b[0m\u001b[1;33m,\u001b[0m\u001b[0mimages\u001b[0m\u001b[1;33m,\u001b[0m \u001b[0mlabels\u001b[0m\u001b[1;33m)\u001b[0m\u001b[1;33m:\u001b[0m\u001b[1;33m\u001b[0m\u001b[0m\n\u001b[1;32m--> 165\u001b[1;33m         \u001b[0mdjdv\u001b[0m\u001b[1;33m,\u001b[0m \u001b[0mdjdw\u001b[0m \u001b[1;33m=\u001b[0m \u001b[0mself\u001b[0m\u001b[1;33m.\u001b[0m\u001b[0mMSE_prime\u001b[0m\u001b[1;33m(\u001b[0m\u001b[0mimages\u001b[0m\u001b[1;33m,\u001b[0m\u001b[0mlabels\u001b[0m\u001b[1;33m)\u001b[0m\u001b[1;33m\u001b[0m\u001b[0m\n\u001b[0m\u001b[0;32m    166\u001b[0m         \u001b[0mself\u001b[0m\u001b[1;33m.\u001b[0m\u001b[0mW\u001b[0m \u001b[1;33m-=\u001b[0m \u001b[0mself\u001b[0m\u001b[1;33m.\u001b[0m\u001b[0mlearning_rate\u001b[0m\u001b[1;33m*\u001b[0m\u001b[0mdjdw\u001b[0m\u001b[1;33m\u001b[0m\u001b[0m\n\u001b[0;32m    167\u001b[0m         \u001b[0mself\u001b[0m\u001b[1;33m.\u001b[0m\u001b[0mV\u001b[0m \u001b[1;33m-=\u001b[0m \u001b[0mself\u001b[0m\u001b[1;33m.\u001b[0m\u001b[0mlearning_rate\u001b[0m\u001b[1;33m*\u001b[0m\u001b[0mdjdv\u001b[0m\u001b[1;33m\u001b[0m\u001b[0m\n",
      "\u001b[1;32m<ipython-input-71-3db4728adb75>\u001b[0m in \u001b[0;36mMSE_prime\u001b[1;34m(self, X, y)\u001b[0m\n\u001b[0;32m    104\u001b[0m         \u001b[0mtmp\u001b[0m \u001b[1;33m=\u001b[0m \u001b[0mself\u001b[0m\u001b[1;33m.\u001b[0m\u001b[0mtanh_prime\u001b[0m\u001b[1;33m(\u001b[0m\u001b[0mself\u001b[0m\u001b[1;33m.\u001b[0m\u001b[0mVX\u001b[0m\u001b[1;33m)\u001b[0m\u001b[1;33m\u001b[0m\u001b[0m\n\u001b[0;32m    105\u001b[0m         \u001b[0mdelta2\u001b[0m \u001b[1;33m=\u001b[0m \u001b[0mnp\u001b[0m\u001b[1;33m.\u001b[0m\u001b[0mmultiply\u001b[0m\u001b[1;33m(\u001b[0m\u001b[0mdelta1\u001b[0m\u001b[1;33m,\u001b[0m\u001b[0mtmp\u001b[0m\u001b[1;33m)\u001b[0m\u001b[1;33m\u001b[0m\u001b[0m\n\u001b[1;32m--> 106\u001b[1;33m         \u001b[0mdJdV\u001b[0m \u001b[1;33m=\u001b[0m \u001b[0mnp\u001b[0m\u001b[1;33m.\u001b[0m\u001b[0mdot\u001b[0m\u001b[1;33m(\u001b[0m\u001b[0mX\u001b[0m\u001b[1;33m.\u001b[0m\u001b[0mreshape\u001b[0m\u001b[1;33m(\u001b[0m\u001b[0mX\u001b[0m\u001b[1;33m.\u001b[0m\u001b[0mshape\u001b[0m\u001b[1;33m[\u001b[0m\u001b[1;36m0\u001b[0m\u001b[1;33m]\u001b[0m\u001b[1;33m,\u001b[0m\u001b[1;36m1\u001b[0m\u001b[1;33m)\u001b[0m\u001b[1;33m,\u001b[0m \u001b[0mdelta2\u001b[0m\u001b[1;33m.\u001b[0m\u001b[0mreshape\u001b[0m\u001b[1;33m(\u001b[0m\u001b[0mdelta2\u001b[0m\u001b[1;33m.\u001b[0m\u001b[0mshape\u001b[0m\u001b[1;33m[\u001b[0m\u001b[1;36m0\u001b[0m\u001b[1;33m]\u001b[0m\u001b[1;33m,\u001b[0m\u001b[1;36m1\u001b[0m\u001b[1;33m)\u001b[0m\u001b[1;33m.\u001b[0m\u001b[0mT\u001b[0m\u001b[1;33m)\u001b[0m\u001b[1;33m.\u001b[0m\u001b[0mT\u001b[0m\u001b[1;33m\u001b[0m\u001b[0m\n\u001b[0m\u001b[0;32m    107\u001b[0m         \u001b[1;31m#dJdV = np.dot(X.T, delta2).T   # shape      (10L, 201L)\u001b[0m\u001b[1;33m\u001b[0m\u001b[1;33m\u001b[0m\u001b[0m\n\u001b[0;32m    108\u001b[0m         \u001b[1;32mreturn\u001b[0m \u001b[0mdJdV\u001b[0m\u001b[1;33m,\u001b[0m \u001b[0mdJdW\u001b[0m\u001b[1;33m\u001b[0m\u001b[0m\n",
      "\u001b[1;31mKeyboardInterrupt\u001b[0m: "
     ]
    }
   ],
   "source": [
    "NN = Neural_Network(0.01,35)\n",
    "NN.train(X_train,y_hot,1)"
   ]
  },
  {
   "cell_type": "code",
   "execution_count": 141,
   "metadata": {
    "collapsed": false
   },
   "outputs": [
    {
     "name": "stdout",
     "output_type": "stream",
     "text": [
      "0.99726\n",
      "0.97168\n",
      "1.0\n"
     ]
    }
   ],
   "source": [
    "print foo.pred_train[-1]\n",
    "print bar.pred_train[-1]\n",
    "print NN_CEE.pred_train[-1]"
   ]
  },
  {
   "cell_type": "code",
   "execution_count": 140,
   "metadata": {
    "collapsed": true
   },
   "outputs": [],
   "source": [
    "plt.plot(bar.cost, color ='red')\n",
    "plt.xlabel('Number of iterations (x1000)')\n",
    "plt.ylabel('Total cost')\n",
    "plt.show()"
   ]
  },
  {
   "cell_type": "code",
   "execution_count": 139,
   "metadata": {
    "collapsed": true
   },
   "outputs": [],
   "source": [
    "plt.plot(NN_CEE.cost, color ='red')\n",
    "plt.xlabel('Number of iterations (x1000)')\n",
    "plt.ylabel('Total cost')\n",
    "plt.show()"
   ]
  },
  {
   "cell_type": "code",
   "execution_count": 73,
   "metadata": {
    "collapsed": false
   },
   "outputs": [],
   "source": [
    "pred_test = NN.predict(X_test)\n",
    "predictions_test = []\n",
    "for i in xrange(pred_test.shape[0]):\n",
    "    predictions_test.append(np.argmax(pred_test[i]))"
   ]
  },
  {
   "cell_type": "code",
   "execution_count": 75,
   "metadata": {
    "collapsed": false
   },
   "outputs": [],
   "source": [
    "import csv\n",
    "#export result for kaggle submission\n",
    "output = open(\"predictions2.csv\", 'wb')\n",
    "output = csv.writer(output)\n",
    "output.writerow(('Id', 'Category'))\n",
    "for i in range(0, X_test.shape[0]):\n",
    "    output.writerow((i+1, predictions_test[i]))\n",
    "#output.close()"
   ]
  },
  {
   "cell_type": "code",
   "execution_count": 113,
   "metadata": {
    "collapsed": true
   },
   "outputs": [],
   "source": [
    "pred_test2 = foo.predict(X_test)\n",
    "predictions_test2 = []\n",
    "for i in xrange(pred_test2.shape[0]):\n",
    "    predictions_test2.append(np.argmax(pred_test2[i]))"
   ]
  },
  {
   "cell_type": "code",
   "execution_count": 115,
   "metadata": {
    "collapsed": false
   },
   "outputs": [],
   "source": [
    "\n",
    "    \n",
    "#export result for kaggle submission\n",
    "output = open(\"predictions3.csv\", 'wb')\n",
    "output = csv.writer(output)\n",
    "output.writerow(('Id', 'Category'))\n",
    "for i in range(0, X_test.shape[0]):\n",
    "    output.writerow((i+1, predictions_test2[i]))"
   ]
  },
  {
   "cell_type": "code",
   "execution_count": 128,
   "metadata": {
    "collapsed": true
   },
   "outputs": [],
   "source": [
    "pred_test3 = NN_CEE.predict(X_test)\n",
    "predictions_test3 = []\n",
    "for i in xrange(pred_test3.shape[0]):\n",
    "    predictions_test3.append(np.argmax(pred_test3[i]))"
   ]
  },
  {
   "cell_type": "code",
   "execution_count": 130,
   "metadata": {
    "collapsed": true
   },
   "outputs": [],
   "source": [
    "#export result for kaggle submission\n",
    "output = open(\"predictions4.csv\", 'wb')\n",
    "output = csv.writer(output)\n",
    "output.writerow(('Id', 'Category'))\n",
    "for i in range(0, X_test.shape[0]):\n",
    "    output.writerow((i+1, predictions_test3[i]))"
   ]
  }
 ],
 "metadata": {
  "kernelspec": {
   "display_name": "Python 2",
   "language": "python",
   "name": "python2"
  },
  "language_info": {
   "codemirror_mode": {
    "name": "ipython",
    "version": 2
   },
   "file_extension": ".py",
   "mimetype": "text/x-python",
   "name": "python",
   "nbconvert_exporter": "python",
   "pygments_lexer": "ipython2",
   "version": "2.7.11"
  }
 },
 "nbformat": 4,
 "nbformat_minor": 0
}
